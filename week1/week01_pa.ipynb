{
  "nbformat": 4,
  "nbformat_minor": 0,
  "metadata": {
    "kernelspec": {
      "name": "python3",
      "display_name": "Python 3"
    },
    "language_info": {
      "codemirror_mode": {
        "name": "ipython",
        "version": 3
      },
      "file_extension": ".py",
      "mimetype": "text/x-python",
      "name": "python",
      "nbconvert_exporter": "python",
      "pygments_lexer": "ipython3",
      "version": "3.6.5"
    },
    "colab": {
      "name": "week01_pa.ipynb",
      "provenance": [],
      "include_colab_link": true
    },
    "accelerator": "GPU"
  },
  "cells": [
    {
      "cell_type": "markdown",
      "metadata": {
        "id": "view-in-github",
        "colab_type": "text"
      },
      "source": [
        "<a href=\"https://colab.research.google.com/github/aklinad/intro-to-dl/blob/master/week1/week01_pa.ipynb\" target=\"_parent\"><img src=\"https://colab.research.google.com/assets/colab-badge.svg\" alt=\"Open In Colab\"/></a>"
      ]
    },
    {
      "cell_type": "markdown",
      "metadata": {
        "id": "SyYxusoqCBld",
        "colab_type": "text"
      },
      "source": [
        "# Programming assignment (Linear models, Optimization)\n",
        "\n",
        "In this programming assignment you will implement a linear classifier and train it using stochastic gradient descent modifications and numpy."
      ]
    },
    {
      "cell_type": "code",
      "metadata": {
        "id": "A9Bi3vN4CWk4",
        "colab_type": "code",
        "outputId": "31c16746-8cb8-41af-ec45-b1c803db6e2f",
        "colab": {
          "base_uri": "https://localhost:8080/",
          "height": 217
        }
      },
      "source": [
        "! shred -u setup_google_colab.py\n",
        "! wget https://raw.githubusercontent.com/hse-aml/intro-to-dl/master/setup_google_colab.py -O setup_google_colab.py\n",
        "import setup_google_colab\n",
        "# please, uncomment the week you're working on\n",
        "setup_google_colab.setup_week1()\n",
        "# setup_google_colab.setup_week2()\n",
        "# setup_google_colab.setup_week2_honor()\n",
        "# setup_google_colab.setup_week3()\n",
        "# setup_google_colab.setup_week4()\n",
        "# setup_google_colab.setup_week5()\n",
        "# setup_google_colab.setup_week6()"
      ],
      "execution_count": 90,
      "outputs": [
        {
          "output_type": "stream",
          "text": [
            "--2020-04-01 18:33:37--  https://raw.githubusercontent.com/hse-aml/intro-to-dl/master/setup_google_colab.py\n",
            "Resolving raw.githubusercontent.com (raw.githubusercontent.com)... 151.101.0.133, 151.101.64.133, 151.101.128.133, ...\n",
            "Connecting to raw.githubusercontent.com (raw.githubusercontent.com)|151.101.0.133|:443... connected.\n",
            "HTTP request sent, awaiting response... 200 OK\n",
            "Length: 3636 (3.6K) [text/plain]\n",
            "Saving to: ‘setup_google_colab.py’\n",
            "\n",
            "\rsetup_google_colab.   0%[                    ]       0  --.-KB/s               \rsetup_google_colab. 100%[===================>]   3.55K  --.-KB/s    in 0s      \n",
            "\n",
            "2020-04-01 18:33:37 (98.0 MB/s) - ‘setup_google_colab.py’ saved [3636/3636]\n",
            "\n"
          ],
          "name": "stdout"
        }
      ]
    },
    {
      "cell_type": "code",
      "metadata": {
        "id": "JFePFPGECBll",
        "colab_type": "code",
        "colab": {}
      },
      "source": [
        "import numpy as np\n",
        "%matplotlib inline\n",
        "import matplotlib.pyplot as plt"
      ],
      "execution_count": 0,
      "outputs": []
    },
    {
      "cell_type": "code",
      "metadata": {
        "id": "ZADE9DgdCBlv",
        "colab_type": "code",
        "colab": {}
      },
      "source": [
        "import sys\n",
        "sys.path.append(\"..\")\n",
        "import grading\n",
        "grader = grading.Grader(assignment_key=\"UaHtvpEFEee0XQ6wjK-hZg\", \n",
        "                      all_parts=[\"xU7U4\", \"HyTF6\", \"uNidL\", \"ToK7N\", \"GBdgZ\", \"dLdHG\"])"
      ],
      "execution_count": 0,
      "outputs": []
    },
    {
      "cell_type": "code",
      "metadata": {
        "id": "gIIY7CyiCBl1",
        "colab_type": "code",
        "colab": {}
      },
      "source": [
        "# token expires every 30 min\n",
        "COURSERA_TOKEN = '0JpjHSbPHBGaLrVM'\n",
        "COURSERA_EMAIL = 'danil_e@i.ua'"
      ],
      "execution_count": 0,
      "outputs": []
    },
    {
      "cell_type": "markdown",
      "metadata": {
        "id": "VxGC8UIqCBl-",
        "colab_type": "text"
      },
      "source": [
        "## Two-dimensional classification\n",
        "\n",
        "To make things more intuitive, let's solve a 2D classification problem with synthetic data."
      ]
    },
    {
      "cell_type": "code",
      "metadata": {
        "id": "f6kz94x1CBmA",
        "colab_type": "code",
        "outputId": "9db01e84-d26e-404b-9f35-8afe6aff3d23",
        "colab": {
          "base_uri": "https://localhost:8080/",
          "height": 265
        }
      },
      "source": [
        "with open('train.npy', 'rb') as fin:\n",
        "    X = np.load(fin)\n",
        "    \n",
        "with open('target.npy', 'rb') as fin:\n",
        "    y = np.load(fin)\n",
        "\n",
        "plt.scatter(X[:, 0], X[:, 1], c=y, cmap=plt.cm.Paired, s=20)\n",
        "plt.show()"
      ],
      "execution_count": 94,
      "outputs": [
        {
          "output_type": "display_data",
          "data": {
            "image/png": "[encoded data removed]",
            "text/plain": [
              "<Figure size 432x288 with 1 Axes>"
            ]
          },
          "metadata": {
            "tags": []
          }
        }
      ]
    },
    {
      "cell_type": "markdown",
      "metadata": {
        "id": "_pYsoxLwCBmE",
        "colab_type": "text"
      },
      "source": [
        "# Task\n",
        "\n",
        "## Features\n",
        "\n",
        "As you can notice the data above isn't linearly separable. Since that we should add features (or use non-linear model). Note that decision line between two classes have form of circle, since that we can add quadratic features to make the problem linearly separable. The idea under this displayed on image below:\n",
        "\n",
        "![](https://github.com/aklinad/intro-to-dl/blob/master/week1/kernel.png?raw=1)"
      ]
    },
    {
      "cell_type": "code",
      "metadata": {
        "id": "HeYyyt7RD1bl",
        "colab_type": "code",
        "colab": {}
      },
      "source": [
        ""
      ],
      "execution_count": 0,
      "outputs": []
    },
    {
      "cell_type": "code",
      "metadata": {
        "id": "G_Yi0M9FCBmF",
        "colab_type": "code",
        "colab": {}
      },
      "source": [
        "def expand(X):\n",
        "    \"\"\"\n",
        "    Adds quadratic features. \n",
        "    This expansion allows your linear model to make non-linear separation.\n",
        "    \n",
        "    For each sample (row in matrix), compute an expanded row:\n",
        "    [feature0, feature1, feature0^2, feature1^2, feature0*feature1, 1]\n",
        "    \n",
        "    :param X: matrix of features, shape [n_samples,2]\n",
        "    :returns: expanded features of shape [n_samples,6]\n",
        "    \"\"\"\n",
        "    X_expanded = np.zeros((X.shape[0], 6))\n",
        "    \n",
        "    # TODO:<your code here>\n",
        "    for k in range(0, X.shape[0]):\n",
        "      X_expanded[k] = np.array([X[k][0], X[k][1], X[k][0]**2, X[k][1]**2, X[k][0]*X[k][1], 1])\n",
        "\n",
        "    return X_expanded"
      ],
      "execution_count": 0,
      "outputs": []
    },
    {
      "cell_type": "code",
      "metadata": {
        "id": "9-6SJ10qCBmJ",
        "colab_type": "code",
        "colab": {}
      },
      "source": [
        "X_expanded = expand(X)"
      ],
      "execution_count": 0,
      "outputs": []
    },
    {
      "cell_type": "code",
      "metadata": {
        "id": "LGMQq01RF8RM",
        "colab_type": "code",
        "colab": {}
      },
      "source": [
        ""
      ],
      "execution_count": 0,
      "outputs": []
    },
    {
      "cell_type": "markdown",
      "metadata": {
        "id": "f3pcdTILCBmM",
        "colab_type": "text"
      },
      "source": [
        "Here are some tests for your implementation of `expand` function."
      ]
    },
    {
      "cell_type": "code",
      "metadata": {
        "id": "25PUaBNJCBmN",
        "colab_type": "code",
        "outputId": "9f0f2f1a-8cad-4133-f9b8-e1de61f665e1",
        "colab": {
          "base_uri": "https://localhost:8080/",
          "height": 35
        }
      },
      "source": [
        "# simple test on random numbers\n",
        "\n",
        "dummy_X = np.array([\n",
        "        [0,0],\n",
        "        [1,0],\n",
        "        [2.61,-1.28],\n",
        "        [-0.59,2.1]\n",
        "    ])\n",
        "\n",
        "# call your expand function\n",
        "dummy_expanded = expand(dummy_X)\n",
        "\n",
        "# what it should have returned:   x0       x1       x0^2     x1^2     x0*x1    1\n",
        "dummy_expanded_ans = np.array([[ 0.    ,  0.    ,  0.    ,  0.    ,  0.    ,  1.    ],\n",
        "                               [ 1.    ,  0.    ,  1.    ,  0.    ,  0.    ,  1.    ],\n",
        "                               [ 2.61  , -1.28  ,  6.8121,  1.6384, -3.3408,  1.    ],\n",
        "                               [-0.59  ,  2.1   ,  0.3481,  4.41  , -1.239 ,  1.    ]])\n",
        "\n",
        "#tests\n",
        "assert isinstance(dummy_expanded,np.ndarray), \"please make sure you return numpy array\"\n",
        "assert dummy_expanded.shape == dummy_expanded_ans.shape, \"please make sure your shape is correct\"\n",
        "assert np.allclose(dummy_expanded,dummy_expanded_ans,1e-3), \"Something's out of order with features\"\n",
        "\n",
        "print(\"Seems legit!\")\n"
      ],
      "execution_count": 97,
      "outputs": [
        {
          "output_type": "stream",
          "text": [
            "Seems legit!\n"
          ],
          "name": "stdout"
        }
      ]
    },
    {
      "cell_type": "markdown",
      "metadata": {
        "id": "Y0_mHngQCBmQ",
        "colab_type": "text"
      },
      "source": [
        "## Logistic regression\n",
        "\n",
        "To classify objects we will obtain probability of object belongs to class '1'. To predict probability we will use output of linear model and logistic function:\n",
        "\n",
        "$$ a(x; w) = \\langle w, x \\rangle $$\n",
        "$$ P( y=1 \\; \\big| \\; x, \\, w) = \\dfrac{1}{1 + \\exp(- \\langle w, x \\rangle)} = \\sigma(\\langle w, x \\rangle)$$\n"
      ]
    },
    {
      "cell_type": "code",
      "metadata": {
        "id": "TtF6g4CyCBmR",
        "colab_type": "code",
        "colab": {}
      },
      "source": [
        "def probability(x, w):\n",
        "    \"\"\"\n",
        "    Given input features and weights\n",
        "    return predicted probabilities of y==1 given x, P(y=1|x), see description above\n",
        "        \n",
        "    Don't forget to use expand(X) function (where necessary) in this and subsequent functions.\n",
        "    \n",
        "    :param X: feature matrix X of shape [n_samples,6] (expanded)\n",
        "    :param w: weight vector w of shape [6] for each of the expanded features\n",
        "    :returns: an array of predicted probabilities in [0,1] interval.\n",
        "    \"\"\"\n",
        "\n",
        "    # TODO:<your code here>\n",
        "    return ( 1 + np.exp(-np.dot(x, w )) )**(-1)\n"
      ],
      "execution_count": 0,
      "outputs": []
    },
    {
      "cell_type": "code",
      "metadata": {
        "id": "6eW7i6KQNfkG",
        "colab_type": "code",
        "outputId": "02a44bac-2ab6-4400-d280-ae1c37c84363",
        "colab": {
          "base_uri": "https://localhost:8080/",
          "height": 35
        }
      },
      "source": [
        "np.dot(np.linspace(-1, 1, 6), X_expanded[:1, :][0])\n",
        "\n",
        "#( 1 + np.exp(-w, X_expanded[:1, :][0]) )**(-1)\n",
        "\n",
        "( 1 + np.exp(-np.dot(np.linspace(-1, 1, 6), X_expanded[:1, :][0])) )**(-1)"
      ],
      "execution_count": 99,
      "outputs": [
        {
          "output_type": "execute_result",
          "data": {
            "text/plain": [
              "0.3803998509843769"
            ]
          },
          "metadata": {
            "tags": []
          },
          "execution_count": 99
        }
      ]
    },
    {
      "cell_type": "code",
      "metadata": {
        "id": "1I4NqsWXQQ3j",
        "colab_type": "code",
        "outputId": "ded86dfa-4d6f-4b67-f5c6-1e6e3527b12d",
        "colab": {
          "base_uri": "https://localhost:8080/",
          "height": 145
        }
      },
      "source": [
        "X"
      ],
      "execution_count": 100,
      "outputs": [
        {
          "output_type": "execute_result",
          "data": {
            "text/plain": [
              "array([[ 1.20798057,  0.0844994 ],\n",
              "       [ 0.76121787,  0.72510869],\n",
              "       [ 0.55256189,  0.51937292],\n",
              "       ...,\n",
              "       [-1.22224754,  0.45743421],\n",
              "       [ 0.43973452, -1.47275142],\n",
              "       [ 1.4928118 ,  1.15683375]])"
            ]
          },
          "metadata": {
            "tags": []
          },
          "execution_count": 100
        }
      ]
    },
    {
      "cell_type": "code",
      "metadata": {
        "id": "U64SlibNOiKQ",
        "colab_type": "code",
        "outputId": "255af05c-07c0-4d04-c626-9083326b025f",
        "colab": {
          "base_uri": "https://localhost:8080/",
          "height": 35
        }
      },
      "source": [
        "np.linspace(-1, 1, 6).shape"
      ],
      "execution_count": 101,
      "outputs": [
        {
          "output_type": "execute_result",
          "data": {
            "text/plain": [
              "(6,)"
            ]
          },
          "metadata": {
            "tags": []
          },
          "execution_count": 101
        }
      ]
    },
    {
      "cell_type": "code",
      "metadata": {
        "id": "hHOXRuHPCBmU",
        "colab_type": "code",
        "colab": {}
      },
      "source": [
        "dummy_weights = np.linspace(-1, 1, 6)\n",
        "ans_part1 = probability(X_expanded[:1, :], dummy_weights)[0]"
      ],
      "execution_count": 0,
      "outputs": []
    },
    {
      "cell_type": "code",
      "metadata": {
        "id": "GPEqic8oCBmX",
        "colab_type": "code",
        "colab": {}
      },
      "source": [
        "## GRADED PART, DO NOT CHANGE!\n",
        "grader.set_answer(\"xU7U4\", ans_part1)"
      ],
      "execution_count": 0,
      "outputs": []
    },
    {
      "cell_type": "code",
      "metadata": {
        "id": "ICMIT94wCBma",
        "colab_type": "code",
        "outputId": "17329ca1-788c-4558-a800-5c8bd5ab1184",
        "colab": {
          "base_uri": "https://localhost:8080/",
          "height": 35
        }
      },
      "source": [
        "# you can make submission with answers so far to check yourself at this stage\n",
        "grader.submit(COURSERA_EMAIL, COURSERA_TOKEN)"
      ],
      "execution_count": 104,
      "outputs": [
        {
          "output_type": "stream",
          "text": [
            "Submitted to Coursera platform. See results on assignment page!\n"
          ],
          "name": "stdout"
        }
      ]
    },
    {
      "cell_type": "markdown",
      "metadata": {
        "id": "JwjlTpHPCBmd",
        "colab_type": "text"
      },
      "source": [
        "In logistic regression the optimal parameters $w$ are found by cross-entropy minimization:\n",
        "\n",
        "Loss for one sample: $$ l(x_i, y_i, w) = - \\left[ {y_i \\cdot log P(y_i = 1 \\, | \\, x_i,w) + (1-y_i) \\cdot log (1-P(y_i = 1\\, | \\, x_i,w))}\\right] $$\n",
        "\n",
        "Loss for many samples: $$ L(X, \\vec{y}, w) =  {1 \\over \\ell} \\sum_{i=1}^\\ell l(x_i, y_i, w) $$\n",
        "\n"
      ]
    },
    {
      "cell_type": "code",
      "metadata": {
        "id": "a-jWP0wTCBme",
        "colab_type": "code",
        "colab": {}
      },
      "source": [
        "def compute_loss(X, y, w):\n",
        "    \"\"\"\n",
        "    Given feature matrix X [n_samples,6], target vector [n_samples] of 1/0,\n",
        "    and weight vector w [6], compute scalar loss function L using formula above.\n",
        "    Keep in mind that our loss is averaged over all samples (rows) in X.\n",
        "    \"\"\"\n",
        "    # TODO:<your code here>\n",
        "\n",
        "    l=[]\n",
        "    for k in range(0,X.shape[0]):\n",
        "      l.append( -y[k]*np.log(probability(X[k], w)) - (1 - y[k])*np.log((1 - probability(X[k], w))) )\n",
        "\n",
        "    return (X.shape[0])**(-1)*( sum(l) )\n",
        "\n",
        "    # l = X.shape[0]\n",
        "    # prob = probability(X, w)\n",
        "    \n",
        "    # return -1/l * np.sum(y * np.log(prob) + (1 - y) * np.log(1 - prob))"
      ],
      "execution_count": 0,
      "outputs": []
    },
    {
      "cell_type": "code",
      "metadata": {
        "id": "HxQKs-AwCBmh",
        "colab_type": "code",
        "colab": {}
      },
      "source": [
        "# use output of this cell to fill answer field \n",
        "ans_part2 = compute_loss(X_expanded, y, dummy_weights)"
      ],
      "execution_count": 0,
      "outputs": []
    },
    {
      "cell_type": "code",
      "metadata": {
        "id": "OA0BpQPWCBml",
        "colab_type": "code",
        "colab": {}
      },
      "source": [
        "## GRADED PART, DO NOT CHANGE!\n",
        "grader.set_answer(\"HyTF6\", ans_part2)"
      ],
      "execution_count": 0,
      "outputs": []
    },
    {
      "cell_type": "code",
      "metadata": {
        "id": "fkfsXqn_CBmq",
        "colab_type": "code",
        "colab": {
          "base_uri": "https://localhost:8080/",
          "height": 35
        },
        "outputId": "7630e6ab-3696-4c5c-dcf7-b05c9d00d9ac"
      },
      "source": [
        "# you can make submission with answers so far to check yourself at this stage\n",
        "grader.submit(COURSERA_EMAIL, COURSERA_TOKEN)"
      ],
      "execution_count": 108,
      "outputs": [
        {
          "output_type": "stream",
          "text": [
            "Submitted to Coursera platform. See results on assignment page!\n"
          ],
          "name": "stdout"
        }
      ]
    },
    {
      "cell_type": "markdown",
      "metadata": {
        "id": "uwAXfPqzCBms",
        "colab_type": "text"
      },
      "source": [
        "Since we train our model with gradient descent, we should compute gradients.\n",
        "\n",
        "To be specific, we need a derivative of loss function over each weight [6 of them].\n",
        "\n",
        "$$ \\nabla_w L = {1 \\over \\ell} \\sum_{i=1}^\\ell \\nabla_w l(x_i, y_i, w) $$ \n",
        "\n",
        "We won't be giving you the exact formula this time — instead, try figuring out a derivative with pen and paper. \n",
        "\n",
        "As usual, we've made a small test for you, but if you need more, feel free to check your math against finite differences (estimate how $L$ changes if you shift $w$ by $10^{-5}$ or so)."
      ]
    },
    {
      "cell_type": "code",
      "metadata": {
        "id": "MZMJ5hpZCBmt",
        "colab_type": "code",
        "colab": {}
      },
      "source": [
        "def compute_grad(X, y, w):\n",
        "    \"\"\"\n",
        "    Given feature matrix X [n_samples,6], target vector [n_samples] of 1/0,\n",
        "    and weight vector w [6], compute vector [6] of derivatives of L over each weights.\n",
        "    Keep in mind that our loss is averaged over all samples (rows) in X.\n",
        "    \"\"\"\n",
        "    \n",
        "\n",
        "    Grad_Loss = [ ]\n",
        "    for i in range(0, X.shape[1]):\n",
        "      hui = [X[k][i]*np.exp(-np.dot(X[k], w ))*probability(X[k], w)*(probability(X[k], w) - y[k])*( 1 - probability(X[k], w) )**(-1) for k in range(0, X.shape[0]) ]\n",
        "      s = sum( hui )*(X.shape[0])**(-1)\n",
        "      Grad_Loss.append( s )\n",
        "    \n",
        "    return np.array(Grad_Loss)\n",
        "\n",
        "    # l = X.shape[0]\n",
        "    # prob = probability(X, w)\n",
        "    \n",
        "    # return 1/l * np.dot(X.T, (prob - y))"
      ],
      "execution_count": 0,
      "outputs": []
    },
    {
      "cell_type": "code",
      "metadata": {
        "id": "KyMOE3aOCBmw",
        "colab_type": "code",
        "colab": {}
      },
      "source": [
        "# use output of this cell to fill answer field \n",
        "ans_part3 = np.linalg.norm(compute_grad(X_expanded, y, dummy_weights))"
      ],
      "execution_count": 0,
      "outputs": []
    },
    {
      "cell_type": "code",
      "metadata": {
        "id": "iXOxsU1wCBmz",
        "colab_type": "code",
        "colab": {}
      },
      "source": [
        "## GRADED PART, DO NOT CHANGE!\n",
        "grader.set_answer(\"uNidL\", ans_part3)"
      ],
      "execution_count": 0,
      "outputs": []
    },
    {
      "cell_type": "code",
      "metadata": {
        "id": "2_Mnuoo0CBm3",
        "colab_type": "code",
        "colab": {
          "base_uri": "https://localhost:8080/",
          "height": 35
        },
        "outputId": "a057fcf0-a990-4163-ff35-cc13b77e7ec9"
      },
      "source": [
        "# you can make submission with answers so far to check yourself at this stage\n",
        "grader.submit(COURSERA_EMAIL, COURSERA_TOKEN)"
      ],
      "execution_count": 112,
      "outputs": [
        {
          "output_type": "stream",
          "text": [
            "Submitted to Coursera platform. See results on assignment page!\n"
          ],
          "name": "stdout"
        }
      ]
    },
    {
      "cell_type": "markdown",
      "metadata": {
        "id": "NSNuFUPVCBm6",
        "colab_type": "text"
      },
      "source": [
        "Here's an auxiliary function that visualizes the predictions:"
      ]
    },
    {
      "cell_type": "code",
      "metadata": {
        "id": "RFJ5oZXgCBm8",
        "colab_type": "code",
        "colab": {}
      },
      "source": [
        "from IPython import display\n",
        "\n",
        "h = 0.01\n",
        "x_min, x_max = X[:, 0].min() - 1, X[:, 0].max() + 1\n",
        "y_min, y_max = X[:, 1].min() - 1, X[:, 1].max() + 1\n",
        "xx, yy = np.meshgrid(np.arange(x_min, x_max, h), np.arange(y_min, y_max, h))\n",
        "\n",
        "def visualize(X, y, w, history):\n",
        "    \"\"\"draws classifier prediction with matplotlib magic\"\"\"\n",
        "    Z = probability(expand(np.c_[xx.ravel(), yy.ravel()]), w)\n",
        "    Z = Z.reshape(xx.shape)\n",
        "    plt.subplot(1, 2, 1)\n",
        "    plt.contourf(xx, yy, Z, alpha=0.8)\n",
        "    plt.scatter(X[:, 0], X[:, 1], c=y, cmap=plt.cm.Paired)\n",
        "    plt.xlim(xx.min(), xx.max())\n",
        "    plt.ylim(yy.min(), yy.max())\n",
        "    \n",
        "    plt.subplot(1, 2, 2)\n",
        "    plt.plot(history)\n",
        "    plt.grid()\n",
        "    ymin, ymax = plt.ylim()\n",
        "    plt.ylim(0, ymax)\n",
        "    display.clear_output(wait=True)\n",
        "    plt.show()"
      ],
      "execution_count": 0,
      "outputs": []
    },
    {
      "cell_type": "code",
      "metadata": {
        "id": "47-_8N25CBm_",
        "colab_type": "code",
        "colab": {
          "base_uri": "https://localhost:8080/",
          "height": 265
        },
        "outputId": "4935f812-95f5-4338-dcbc-c72dd8f5dcce"
      },
      "source": [
        "visualize(X, y, dummy_weights, [0.5, 0.5, 0.25])"
      ],
      "execution_count": 114,
      "outputs": [
        {
          "output_type": "display_data",
          "data": {
            "image/png": "[encoded data removed]",
            "text/plain": [
              "<Figure size 432x288 with 2 Axes>"
            ]
          },
          "metadata": {
            "tags": []
          }
        }
      ]
    },
    {
      "cell_type": "markdown",
      "metadata": {
        "id": "33jhT5DGCBnC",
        "colab_type": "text"
      },
      "source": [
        "## Training\n",
        "In this section we'll use the functions you wrote to train our classifier using stochastic gradient descent.\n",
        "\n",
        "You can try change hyperparameters like batch size, learning rate and so on to find the best one, but use our hyperparameters when fill answers."
      ]
    },
    {
      "cell_type": "markdown",
      "metadata": {
        "id": "rthMupJSCBnE",
        "colab_type": "text"
      },
      "source": [
        "## Mini-batch SGD\n",
        "\n",
        "Stochastic gradient descent just takes a random batch of $m$ samples on each iteration, calculates a gradient of the loss on it and makes a step:\n",
        "$$ w_t = w_{t-1} - \\eta \\dfrac{1}{m} \\sum_{j=1}^m \\nabla_w l(x_{i_j}, y_{i_j}, w_t) $$\n",
        "\n"
      ]
    },
    {
      "cell_type": "code",
      "metadata": {
        "id": "04EaGLodCBnF",
        "colab_type": "code",
        "colab": {
          "base_uri": "https://localhost:8080/",
          "height": 283
        },
        "outputId": "e3f58169-b7da-4185-f504-ef6089d71ba9"
      },
      "source": [
        "# please use np.random.seed(42), eta=0.1, n_iter=100 and batch_size=4 for deterministic results\n",
        "\n",
        "np.random.seed(42)\n",
        "w = np.array([0, 0, 0, 0, 0, 1])\n",
        "\n",
        "eta= 0.1 # learning rate\n",
        "\n",
        "n_iter = 100\n",
        "batch_size = 4\n",
        "loss = np.zeros(n_iter)\n",
        "plt.figure(figsize=(12, 5))\n",
        "\n",
        "for i in range(n_iter):\n",
        "    ind = np.random.choice(X_expanded.shape[0], batch_size)\n",
        "    loss[i] = compute_loss(X_expanded, y, w)\n",
        "    if i % 10 == 0:\n",
        "        visualize(X_expanded[ind, :], y[ind], w, loss)\n",
        "\n",
        "    # Keep in mind that compute_grad already does averaging over batch for you!\n",
        "    # TODO:<your code here>\n",
        "\n",
        "visualize(X, y, w, loss)\n",
        "plt.clf()"
      ],
      "execution_count": 115,
      "outputs": [
        {
          "output_type": "display_data",
          "data": {
            "image/png": "[encoded data removed]",
            "text/plain": [
              "<Figure size 432x288 with 2 Axes>"
            ]
          },
          "metadata": {
            "tags": []
          }
        },
        {
          "output_type": "display_data",
          "data": {
            "text/plain": [
              "<Figure size 432x288 with 0 Axes>"
            ]
          },
          "metadata": {
            "tags": []
          }
        }
      ]
    },
    {
      "cell_type": "code",
      "metadata": {
        "id": "xXc6yQSpyGTR",
        "colab_type": "code",
        "colab": {
          "base_uri": "https://localhost:8080/",
          "height": 35
        },
        "outputId": "805ac1ff-f7a4-4482-ebfd-1342c5fe56d9"
      },
      "source": [
        "w = np.array([0, 0, 0, 0, 0, 1])\n",
        "for k in range(n_iter):\n",
        "      w = w - eta*compute_grad(X_expanded, y, w)\n",
        "\n",
        "print(w)"
      ],
      "execution_count": 116,
      "outputs": [
        {
          "output_type": "stream",
          "text": [
            "[ 0.72365337 -0.69500249 -0.65422357 -0.65057183 -0.40023492  1.56909959]\n"
          ],
          "name": "stdout"
        }
      ]
    },
    {
      "cell_type": "code",
      "metadata": {
        "id": "ta0ZC1jjCBnI",
        "colab_type": "code",
        "colab": {}
      },
      "source": [
        "# use output of this cell to fill answer field \n",
        "\n",
        "#ans_part4 = compute_loss(X_expanded, y, w)\n",
        "\n",
        "ans_part4 = compute_loss(X_expanded, y, np.array(w))"
      ],
      "execution_count": 0,
      "outputs": []
    },
    {
      "cell_type": "code",
      "metadata": {
        "id": "exbHfeOnCBnL",
        "colab_type": "code",
        "colab": {}
      },
      "source": [
        "## GRADED PART, DO NOT CHANGE!\n",
        "grader.set_answer(\"ToK7N\", ans_part4)"
      ],
      "execution_count": 0,
      "outputs": []
    },
    {
      "cell_type": "code",
      "metadata": {
        "id": "3B6B3UgcCBnP",
        "colab_type": "code",
        "colab": {
          "base_uri": "https://localhost:8080/",
          "height": 35
        },
        "outputId": "dfb71fdd-3534-4a16-f29c-16170ea73b1b"
      },
      "source": [
        "# you can make submission with answers so far to check yourself at this stage\n",
        "grader.submit(COURSERA_EMAIL, COURSERA_TOKEN)"
      ],
      "execution_count": 119,
      "outputs": [
        {
          "output_type": "stream",
          "text": [
            "Submitted to Coursera platform. See results on assignment page!\n"
          ],
          "name": "stdout"
        }
      ]
    },
    {
      "cell_type": "markdown",
      "metadata": {
        "id": "dJSGZkdHCBnU",
        "colab_type": "text"
      },
      "source": [
        "## SGD with momentum\n",
        "\n",
        "Momentum is a method that helps accelerate SGD in the relevant direction and dampens oscillations as can be seen in image below. It does this by adding a fraction $\\alpha$ of the update vector of the past time step to the current update vector.\n",
        "<br>\n",
        "<br>\n",
        "\n",
        "$$ \\nu_t = \\alpha \\nu_{t-1} + \\eta\\dfrac{1}{m} \\sum_{j=1}^m \\nabla_w l(x_{i_j}, y_{i_j}, w_t) $$\n",
        "$$ w_t = w_{t-1} - \\nu_t$$\n",
        "\n",
        "<br>\n",
        "\n",
        "\n",
        "![](https://github.com/aklinad/intro-to-dl/blob/master/week1/sgd.png?raw=1)\n"
      ]
    },
    {
      "cell_type": "code",
      "metadata": {
        "id": "LBggiH0_CBnV",
        "colab_type": "code",
        "colab": {
          "base_uri": "https://localhost:8080/",
          "height": 283
        },
        "outputId": "6ece3571-3b99-403f-9c21-1ad33bb49922"
      },
      "source": [
        "# please use np.random.seed(42), eta=0.05, alpha=0.9, n_iter=100 and batch_size=4 for deterministic results\n",
        "np.random.seed(42)\n",
        "w = np.array([0, 0, 0, 0, 0, 1])\n",
        "\n",
        "eta = 0.05 # learning rate\n",
        "alpha = 0.9 # momentum\n",
        "nu = np.zeros_like(w)\n",
        "\n",
        "n_iter = 100\n",
        "batch_size = 4\n",
        "loss = np.zeros(n_iter)\n",
        "plt.figure(figsize=(12, 5))\n",
        "\n",
        "for i in range(n_iter):\n",
        "    ind = np.random.choice(X_expanded.shape[0], batch_size)\n",
        "    loss[i] = compute_loss(X_expanded, y, w)\n",
        "    if i % 10 == 0:\n",
        "        visualize(X_expanded[ind, :], y[ind], w, loss)\n",
        "\n",
        "    # TODO:<your code here>\n",
        "\n",
        "visualize(X, y, w, loss)\n",
        "plt.clf()"
      ],
      "execution_count": 120,
      "outputs": [
        {
          "output_type": "display_data",
          "data": {
            "image/png": "[encoded data removed]",
            "text/plain": [
              "<Figure size 432x288 with 2 Axes>"
            ]
          },
          "metadata": {
            "tags": []
          }
        },
        {
          "output_type": "display_data",
          "data": {
            "text/plain": [
              "<Figure size 432x288 with 0 Axes>"
            ]
          },
          "metadata": {
            "tags": []
          }
        }
      ]
    },
    {
      "cell_type": "code",
      "metadata": {
        "id": "rruXu2rc-MXA",
        "colab_type": "code",
        "colab": {
          "base_uri": "https://localhost:8080/",
          "height": 35
        },
        "outputId": "cd82784f-57c9-400a-f860-d4804d9412c6"
      },
      "source": [
        "w = np.array([0, 0, 0, 0, 0, 1])\n",
        "for k in range(n_iter):\n",
        "  nu = alpha*nu+eta*compute_grad(X_expanded, y, w)\n",
        "  w=w-nu\n",
        "\n",
        "print(w)"
      ],
      "execution_count": 121,
      "outputs": [
        {
          "output_type": "stream",
          "text": [
            "[ 1.26044263 -1.23563763 -1.22545518 -1.23397005 -0.74376661  2.98951524]\n"
          ],
          "name": "stdout"
        }
      ]
    },
    {
      "cell_type": "code",
      "metadata": {
        "id": "n2M39tZRCBnZ",
        "colab_type": "code",
        "colab": {}
      },
      "source": [
        "# use output of this cell to fill answer field \n",
        "\n",
        "ans_part5 = compute_loss(X_expanded, y, w)"
      ],
      "execution_count": 0,
      "outputs": []
    },
    {
      "cell_type": "code",
      "metadata": {
        "id": "co5zk9eKCBnb",
        "colab_type": "code",
        "colab": {}
      },
      "source": [
        "## GRADED PART, DO NOT CHANGE!\n",
        "grader.set_answer(\"GBdgZ\", ans_part5)"
      ],
      "execution_count": 0,
      "outputs": []
    },
    {
      "cell_type": "code",
      "metadata": {
        "id": "GhfftxDBCBne",
        "colab_type": "code",
        "colab": {
          "base_uri": "https://localhost:8080/",
          "height": 35
        },
        "outputId": "c1a604c5-e077-4627-8466-8e9fdd87a779"
      },
      "source": [
        "# you can make submission with answers so far to check yourself at this stage\n",
        "grader.submit(COURSERA_EMAIL, COURSERA_TOKEN)"
      ],
      "execution_count": 124,
      "outputs": [
        {
          "output_type": "stream",
          "text": [
            "Submitted to Coursera platform. See results on assignment page!\n"
          ],
          "name": "stdout"
        }
      ]
    },
    {
      "cell_type": "markdown",
      "metadata": {
        "id": "DN8reElPCBng",
        "colab_type": "text"
      },
      "source": [
        "## RMSprop\n",
        "\n",
        "Implement RMSPROP algorithm, which use squared gradients to adjust learning rate:\n",
        "\n",
        "$$ G_j^t = \\alpha G_j^{t-1} + (1 - \\alpha) g_{tj}^2 $$\n",
        "$$ w_j^t = w_j^{t-1} - \\dfrac{\\eta}{\\sqrt{G_j^t + \\varepsilon}} g_{tj} $$"
      ]
    },
    {
      "cell_type": "code",
      "metadata": {
        "id": "x74Nf3Z6CBnh",
        "colab_type": "code",
        "colab": {
          "base_uri": "https://localhost:8080/",
          "height": 283
        },
        "outputId": "6766d665-1849-4e80-e3c4-cb0d1668fe99"
      },
      "source": [
        "# please use np.random.seed(42), eta=0.1, alpha=0.9, n_iter=100 and batch_size=4 for deterministic results\n",
        "np.random.seed(42)\n",
        "\n",
        "w = np.array([0, 0, 0, 0, 0, 1.])\n",
        "\n",
        "eta = 0.1 # learning rate\n",
        "alpha = 0.9 # moving average of gradient norm squared\n",
        "g2 = None # we start with None so that you can update this value correctly on the first iteration\n",
        "eps = 1e-8\n",
        "\n",
        "n_iter = 100\n",
        "batch_size = 4\n",
        "loss = np.zeros(n_iter)\n",
        "plt.figure(figsize=(12,5))\n",
        "for i in range(n_iter):\n",
        "    ind = np.random.choice(X_expanded.shape[0], batch_size)\n",
        "    loss[i] = compute_loss(X_expanded, y, w)\n",
        "    if i % 10 == 0:\n",
        "        visualize(X_expanded[ind, :], y[ind], w, loss)\n",
        "\n",
        "    # TODO:<your code here>\n",
        "\n",
        "visualize(X, y, w, loss)\n",
        "plt.clf()"
      ],
      "execution_count": 137,
      "outputs": [
        {
          "output_type": "display_data",
          "data": {
            "image/png": "[encoded data removed]",
            "text/plain": [
              "<Figure size 432x288 with 2 Axes>"
            ]
          },
          "metadata": {
            "tags": []
          }
        },
        {
          "output_type": "display_data",
          "data": {
            "text/plain": [
              "<Figure size 432x288 with 0 Axes>"
            ]
          },
          "metadata": {
            "tags": []
          }
        }
      ]
    },
    {
      "cell_type": "code",
      "metadata": {
        "id": "ok1118AECG0z",
        "colab_type": "code",
        "colab": {
          "base_uri": "https://localhost:8080/",
          "height": 54
        },
        "outputId": "21d3c625-8531-4484-dbdc-2d2968dcad7c"
      },
      "source": [
        "w = np.array([0, 0, 0, 0, 0, 1.])\n",
        "#g2=np.linalg.norm(compute_grad(X_expanded, y, w))**2\n",
        "g2=np.linalg.norm(compute_grad(X_expanded, y, w))**2\n",
        "G=np.linalg.norm(compute_grad(X_expanded, y, w))\n",
        "\n",
        "for i in range(n_iter):\n",
        "  G=alpha*G+(1-alpha)*g2\n",
        "  w=w-eta*g2*(G+eps)**(-0.5)\n",
        "\n",
        "print(w)"
      ],
      "execution_count": 149,
      "outputs": [
        {
          "output_type": "stream",
          "text": [
            "[-10.18863737 -10.18863737 -10.18863737 -10.18863737 -10.18863737\n",
            "  -9.18863737]\n"
          ],
          "name": "stdout"
        }
      ]
    },
    {
      "cell_type": "code",
      "metadata": {
        "id": "qZC6N-gWFhFd",
        "colab_type": "code",
        "colab": {}
      },
      "source": [
        "w = np.array([0, 0, 0, 0, 0, 1.])\n",
        "g2 = np.zeros_like(w)\n",
        "\n",
        "for i in range(n_iter):\n",
        "    grad = compute_grad(X_expanded, y, w)\n",
        "    g2 = alpha * g2 + (1 - alpha) * grad**2\n",
        "    w = w - eta * grad / np.sqrt(g2 + eps)"
      ],
      "execution_count": 0,
      "outputs": []
    },
    {
      "cell_type": "code",
      "metadata": {
        "id": "_Vrao37LC4sx",
        "colab_type": "code",
        "colab": {}
      },
      "source": [
        ""
      ],
      "execution_count": 0,
      "outputs": []
    },
    {
      "cell_type": "code",
      "metadata": {
        "id": "zqJlplnSCBnm",
        "colab_type": "code",
        "colab": {}
      },
      "source": [
        "# use output of this cell to fill answer field \n",
        "ans_part6 = compute_loss(X_expanded, y, w)"
      ],
      "execution_count": 0,
      "outputs": []
    },
    {
      "cell_type": "code",
      "metadata": {
        "id": "Lq9n2VFJCBnq",
        "colab_type": "code",
        "colab": {}
      },
      "source": [
        "## GRADED PART, DO NOT CHANGE!\n",
        "grader.set_answer(\"dLdHG\", ans_part6)"
      ],
      "execution_count": 0,
      "outputs": []
    },
    {
      "cell_type": "code",
      "metadata": {
        "id": "koQ2OjUiCBnt",
        "colab_type": "code",
        "colab": {
          "base_uri": "https://localhost:8080/",
          "height": 35
        },
        "outputId": "d53997d0-7376-4816-bdc8-16f15465357f"
      },
      "source": [
        "grader.submit(COURSERA_EMAIL, COURSERA_TOKEN)"
      ],
      "execution_count": 157,
      "outputs": [
        {
          "output_type": "stream",
          "text": [
            "Submitted to Coursera platform. See results on assignment page!\n"
          ],
          "name": "stdout"
        }
      ]
    }
  ]
}